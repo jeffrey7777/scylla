{
  "nbformat": 4,
  "nbformat_minor": 0,
  "metadata": {
    "colab": {
      "name": "SQL Programming -  Subqueries using Select Statements",
      "provenance": [],
      "include_colab_link": true
    },
    "kernelspec": {
      "name": "python3",
      "display_name": "Python 3"
    }
  },
  "cells": [
    {
      "cell_type": "markdown",
      "metadata": {
        "id": "view-in-github",
        "colab_type": "text"
      },
      "source": [
        "<a href=\"https://colab.research.google.com/github/jeffrey7777/scylla/blob/main/SQL_Programming_Subqueries_using_Select_Statements.ipynb\" target=\"_parent\"><img src=\"https://colab.research.google.com/assets/colab-badge.svg\" alt=\"Open In Colab\"/></a>"
      ]
    },
    {
      "cell_type": "markdown",
      "metadata": {
        "id": "v7SpgjvSlIoR"
      },
      "source": [
        "<font color=\"green\">*To start working on this notebook, or any other notebook that we will use in the Moringa Data Science Course, we will need to save our own copy of it. We can do this by clicking File > Save a Copy in Drive. We will then be able to make edits to our own copy of this notebook.*</font>"
      ]
    },
    {
      "cell_type": "markdown",
      "metadata": {
        "id": "LtFx0bBdlL-n"
      },
      "source": [
        "# SQL Programming - Subqueries using Select Statements"
      ]
    },
    {
      "cell_type": "markdown",
      "metadata": {
        "id": "mlCS9-zslSwf"
      },
      "source": [
        "## 1.0 Connecting to our Database"
      ]
    },
    {
      "cell_type": "code",
      "metadata": {
        "id": "cEeocMxvnZwS",
        "colab": {
          "base_uri": "https://localhost:8080/",
          "height": 35
        },
        "outputId": "8295f50f-4639-4e08-df51-6d3efa1cf956"
      },
      "source": [
        "# We will first load the sql extension into our environment\n",
        "%load_ext sql\n",
        "\n",
        "# Then connect to our in memory sqlite database\n",
        "# NB: This database will cease to exist as soon as the database connection is closed. \n",
        "%sql sqlite://"
      ],
      "execution_count": 1,
      "outputs": [
        {
          "output_type": "execute_result",
          "data": {
            "application/vnd.google.colaboratory.intrinsic+json": {
              "type": "string"
            },
            "text/plain": [
              "'Connected: @None'"
            ]
          },
          "metadata": {
            "tags": []
          },
          "execution_count": 1
        }
      ]
    },
    {
      "cell_type": "markdown",
      "metadata": {
        "id": "lLI1zQYqlVlt"
      },
      "source": [
        "## 1.1 Loading Data from CSV Files"
      ]
    },
    {
      "cell_type": "markdown",
      "metadata": {
        "id": "tNUsWoeTWn_f"
      },
      "source": [
        "Datasets used in this notebook:\n",
        "\n",
        "\n",
        "1.   **World Countries**\n",
        "\n",
        "> ([Dataset Download Link](https://drive.google.com/a/moringaschool.com/file/d/1XlabneVWhvbmpRUi_Wix2FR5uYAAp-ZY/view?usp=sharing))\n",
        "\n",
        "2.   **World Cities** \n",
        "\n",
        "> ([Dataset Download Link](https://drive.google.com/a/moringaschool.com/file/d/1R5952m-8hH91uiwDK8dcL9sT2D_PEcuw/view?usp=sharing))\n",
        "\n",
        "\n",
        "\n",
        "\n"
      ]
    },
    {
      "cell_type": "code",
      "metadata": {
        "id": "jryiwN6GiqoT"
      },
      "source": [
        "# Importing Pandas\n",
        "import pandas as pd"
      ],
      "execution_count": 2,
      "outputs": []
    },
    {
      "cell_type": "code",
      "metadata": {
        "id": "gnuy0grfirgn",
        "colab": {
          "base_uri": "https://localhost:8080/",
          "height": 230
        },
        "outputId": "4577d6d6-1007-4c16-8202-6f80e608d4c3"
      },
      "source": [
        "# Loading our Countries dataset\n",
        "with open('world_countries.csv','r') as f:\n",
        "    Countries = pd.read_csv(f, index_col=0, encoding='utf-8')\n",
        "%sql DROP TABLE if EXISTS Countries;\n",
        "%sql PERSIST Countries;\n",
        "%sql SELECT * FROM Countries LIMIT 5;\n"
      ],
      "execution_count": 6,
      "outputs": [
        {
          "output_type": "stream",
          "text": [
            " * sqlite://\n",
            "Done.\n",
            " * sqlite://\n",
            " * sqlite://\n",
            "Done.\n"
          ],
          "name": "stdout"
        },
        {
          "output_type": "execute_result",
          "data": {
            "text/html": [
              "<table>\n",
              "    <thead>\n",
              "        <tr>\n",
              "            <th>country</th>\n",
              "            <th>population</th>\n",
              "            <th>EU</th>\n",
              "            <th>coastline</th>\n",
              "        </tr>\n",
              "    </thead>\n",
              "    <tbody>\n",
              "        <tr>\n",
              "            <td>Albania</td>\n",
              "            <td>2.9</td>\n",
              "            <td>no</td>\n",
              "            <td>yes</td>\n",
              "        </tr>\n",
              "        <tr>\n",
              "            <td>Andorra</td>\n",
              "            <td>0.07</td>\n",
              "            <td>no</td>\n",
              "            <td>no</td>\n",
              "        </tr>\n",
              "        <tr>\n",
              "            <td>Austria</td>\n",
              "            <td>8.57</td>\n",
              "            <td>yes</td>\n",
              "            <td>no</td>\n",
              "        </tr>\n",
              "        <tr>\n",
              "            <td>Belarus</td>\n",
              "            <td>9.48</td>\n",
              "            <td>no</td>\n",
              "            <td>no</td>\n",
              "        </tr>\n",
              "        <tr>\n",
              "            <td>Belgium</td>\n",
              "            <td>11.37</td>\n",
              "            <td>yes</td>\n",
              "            <td>yes</td>\n",
              "        </tr>\n",
              "    </tbody>\n",
              "</table>"
            ],
            "text/plain": [
              "[('Albania', 2.9, 'no', 'yes'),\n",
              " ('Andorra', 0.07, 'no', 'no'),\n",
              " ('Austria', 8.57, 'yes', 'no'),\n",
              " ('Belarus', 9.48, 'no', 'no'),\n",
              " ('Belgium', 11.37, 'yes', 'yes')]"
            ]
          },
          "metadata": {
            "tags": []
          },
          "execution_count": 6
        }
      ]
    },
    {
      "cell_type": "code",
      "metadata": {
        "id": "Nl8AVi1OyUmm",
        "colab": {
          "base_uri": "https://localhost:8080/",
          "height": 230
        },
        "outputId": "a689e661-8c1d-4447-aec7-58d3372e9d95"
      },
      "source": [
        "# Loading our cities dataset \n",
        "\n",
        "with open('world_cities.csv','r') as f:\n",
        "    Cities = pd.read_csv(f, index_col=0, encoding='utf-8')\n",
        "%sql DROP TABLE if EXISTS Cities;\n",
        "%sql PERSIST Cities;\n",
        "%sql SELECT * FROM Cities LIMIT 5;\n"
      ],
      "execution_count": 7,
      "outputs": [
        {
          "output_type": "stream",
          "text": [
            " * sqlite://\n",
            "Done.\n",
            " * sqlite://\n",
            " * sqlite://\n",
            "Done.\n"
          ],
          "name": "stdout"
        },
        {
          "output_type": "execute_result",
          "data": {
            "text/html": [
              "<table>\n",
              "    <thead>\n",
              "        <tr>\n",
              "            <th>city</th>\n",
              "            <th>country</th>\n",
              "            <th>latitude</th>\n",
              "            <th>longitude</th>\n",
              "            <th>temperature</th>\n",
              "        </tr>\n",
              "    </thead>\n",
              "    <tbody>\n",
              "        <tr>\n",
              "            <td>Aalborg</td>\n",
              "            <td>Denmark</td>\n",
              "            <td>57.03</td>\n",
              "            <td>9.92</td>\n",
              "            <td>7.52</td>\n",
              "        </tr>\n",
              "        <tr>\n",
              "            <td>Aberdeen</td>\n",
              "            <td>United Kingdom</td>\n",
              "            <td>57.17</td>\n",
              "            <td>-2.08</td>\n",
              "            <td>8.1</td>\n",
              "        </tr>\n",
              "        <tr>\n",
              "            <td>Abisko</td>\n",
              "            <td>Sweden</td>\n",
              "            <td>63.35</td>\n",
              "            <td>18.83</td>\n",
              "            <td>0.2</td>\n",
              "        </tr>\n",
              "        <tr>\n",
              "            <td>Adana</td>\n",
              "            <td>Turkey</td>\n",
              "            <td>36.99</td>\n",
              "            <td>35.32</td>\n",
              "            <td>18.67</td>\n",
              "        </tr>\n",
              "        <tr>\n",
              "            <td>Albacete</td>\n",
              "            <td>Spain</td>\n",
              "            <td>39.0</td>\n",
              "            <td>-1.87</td>\n",
              "            <td>12.62</td>\n",
              "        </tr>\n",
              "    </tbody>\n",
              "</table>"
            ],
            "text/plain": [
              "[('Aalborg', 'Denmark', 57.03, 9.92, 7.52),\n",
              " ('Aberdeen', 'United Kingdom', 57.17, -2.08, 8.1),\n",
              " ('Abisko', 'Sweden', 63.35, 18.83, 0.2),\n",
              " ('Adana', 'Turkey', 36.99, 35.32, 18.67),\n",
              " ('Albacete', 'Spain', 39.0, -1.87, 12.62)]"
            ]
          },
          "metadata": {
            "tags": []
          },
          "execution_count": 7
        }
      ]
    },
    {
      "cell_type": "markdown",
      "metadata": {
        "id": "LEAwY5fwleiu"
      },
      "source": [
        "## 1.2 Subqueries using the SELECT statement"
      ]
    },
    {
      "cell_type": "markdown",
      "metadata": {
        "id": "xgcGBkvuA3V0"
      },
      "source": [
        "A subquery is a query within another query. The outer query is called as main query and inner query is called as subquery. The subquery must be enclosed with parenthesis and generally executes first, and its output is used to complete the query condition for the main or outer query. We will go through examples of how subqueries can be used to answers different types of questions then later, we will use our learnings to work on the challenges."
      ]
    },
    {
      "cell_type": "code",
      "metadata": {
        "id": "--LbGFNOnbTx",
        "colab": {
          "base_uri": "https://localhost:8080/",
          "height": 179
        },
        "outputId": "637608ea-ea3f-4473-aba6-606ef5d5ba2f"
      },
      "source": [
        "# Example 1\n",
        "# Subqueries can occur in the select list of the containing query\n",
        "# as shown below;\n",
        "# Let's find all countries in the Countries table with no city in the Cities table\n",
        "# \n",
        "%%sql\n",
        "SELECT country\n",
        "FROM Countries\n",
        "WHERE NOT EXISTS (SELECT * FROM Cities\n",
        "                  WHERE Cities.country = Countries.country) \n"
      ],
      "execution_count": 8,
      "outputs": [
        {
          "output_type": "stream",
          "text": [
            " * sqlite://\n",
            "Done.\n"
          ],
          "name": "stdout"
        },
        {
          "output_type": "execute_result",
          "data": {
            "text/html": [
              "<table>\n",
              "    <thead>\n",
              "        <tr>\n",
              "            <th>country</th>\n",
              "        </tr>\n",
              "    </thead>\n",
              "    <tbody>\n",
              "        <tr>\n",
              "            <td>Cyprus</td>\n",
              "        </tr>\n",
              "        <tr>\n",
              "            <td>Iceland</td>\n",
              "        </tr>\n",
              "        <tr>\n",
              "            <td>Kosovo</td>\n",
              "        </tr>\n",
              "        <tr>\n",
              "            <td>Liechtenstein</td>\n",
              "        </tr>\n",
              "        <tr>\n",
              "            <td>Luxembourg</td>\n",
              "        </tr>\n",
              "    </tbody>\n",
              "</table>"
            ],
            "text/plain": [
              "[('Cyprus',), ('Iceland',), ('Kosovo',), ('Liechtenstein',), ('Luxembourg',)]"
            ]
          },
          "metadata": {
            "tags": []
          },
          "execution_count": 8
        }
      ]
    },
    {
      "cell_type": "code",
      "metadata": {
        "id": "8XqiW-Q8ndKT",
        "colab": {
          "base_uri": "https://localhost:8080/",
          "height": 158
        },
        "outputId": "8c3d2ad9-c054-450a-9817-c5d2a2300670"
      },
      "source": [
        "# Example 2\n",
        "# Find the European countries with cities experiencing temperature > 20?\n",
        "# \n",
        "%%sql\n",
        "SELECT country\n",
        "FROM Countries\n",
        "WHERE EU = 'yes'\n",
        "AND EXISTS (SELECT * FROM Cities\n",
        "            WHERE Cities.country = Countries.country\n",
        "            AND temperature > 15)"
      ],
      "execution_count": 9,
      "outputs": [
        {
          "output_type": "stream",
          "text": [
            " * sqlite://\n",
            "Done.\n"
          ],
          "name": "stdout"
        },
        {
          "output_type": "execute_result",
          "data": {
            "text/html": [
              "<table>\n",
              "    <thead>\n",
              "        <tr>\n",
              "            <th>country</th>\n",
              "        </tr>\n",
              "    </thead>\n",
              "    <tbody>\n",
              "        <tr>\n",
              "            <td>Greece</td>\n",
              "        </tr>\n",
              "        <tr>\n",
              "            <td>Italy</td>\n",
              "        </tr>\n",
              "        <tr>\n",
              "            <td>Portugal</td>\n",
              "        </tr>\n",
              "        <tr>\n",
              "            <td>Spain</td>\n",
              "        </tr>\n",
              "    </tbody>\n",
              "</table>"
            ],
            "text/plain": [
              "[('Greece',), ('Italy',), ('Portugal',), ('Spain',)]"
            ]
          },
          "metadata": {
            "tags": []
          },
          "execution_count": 9
        }
      ]
    },
    {
      "cell_type": "code",
      "metadata": {
        "id": "ocuJ_kB4nd3z",
        "colab": {
          "base_uri": "https://localhost:8080/",
          "height": 95
        },
        "outputId": "15451dac-4c08-4e7f-8a75-0255ba76faa9"
      },
      "source": [
        "# Example 3: Method 1\n",
        "# Find the westernmost city, returning the city and longitude\n",
        "# \n",
        "%%sql\n",
        "SELECT city, longitude\n",
        "FROM Cities C1\n",
        "WHERE NOT EXISTS (SELECT * FROM Cities C2\n",
        "                  WHERE C2.longitude < C1.longitude)"
      ],
      "execution_count": 10,
      "outputs": [
        {
          "output_type": "stream",
          "text": [
            " * sqlite://\n",
            "Done.\n"
          ],
          "name": "stdout"
        },
        {
          "output_type": "execute_result",
          "data": {
            "text/html": [
              "<table>\n",
              "    <thead>\n",
              "        <tr>\n",
              "            <th>city</th>\n",
              "            <th>longitude</th>\n",
              "        </tr>\n",
              "    </thead>\n",
              "    <tbody>\n",
              "        <tr>\n",
              "            <td>Lisbon</td>\n",
              "            <td>-9.14</td>\n",
              "        </tr>\n",
              "    </tbody>\n",
              "</table>"
            ],
            "text/plain": [
              "[('Lisbon', -9.14)]"
            ]
          },
          "metadata": {
            "tags": []
          },
          "execution_count": 10
        }
      ]
    },
    {
      "cell_type": "code",
      "metadata": {
        "id": "MQCaPcMQ5pDl",
        "colab": {
          "base_uri": "https://localhost:8080/",
          "height": 95
        },
        "outputId": "24ad47cd-7504-45cf-8637-b0d7cf380e10"
      },
      "source": [
        "# Example 3: Method 2\n",
        "# Find the westernmost city, returning the city and longitude\n",
        "# \n",
        "%%sql\n",
        "SELECT city, longitude\n",
        "FROM Cities\n",
        "WHERE longitude = (SELECT min(longitude) FROM Cities)"
      ],
      "execution_count": 11,
      "outputs": [
        {
          "output_type": "stream",
          "text": [
            " * sqlite://\n",
            "Done.\n"
          ],
          "name": "stdout"
        },
        {
          "output_type": "execute_result",
          "data": {
            "text/html": [
              "<table>\n",
              "    <thead>\n",
              "        <tr>\n",
              "            <th>city</th>\n",
              "            <th>longitude</th>\n",
              "        </tr>\n",
              "    </thead>\n",
              "    <tbody>\n",
              "        <tr>\n",
              "            <td>Lisbon</td>\n",
              "            <td>-9.14</td>\n",
              "        </tr>\n",
              "    </tbody>\n",
              "</table>"
            ],
            "text/plain": [
              "[('Lisbon', -9.14)]"
            ]
          },
          "metadata": {
            "tags": []
          },
          "execution_count": 11
        }
      ]
    },
    {
      "cell_type": "code",
      "metadata": {
        "id": "KL5VFl2x7kLZ",
        "colab": {
          "base_uri": "https://localhost:8080/",
          "height": 95
        },
        "outputId": "5523a872-1114-4980-a81b-5917dfb0a9e9"
      },
      "source": [
        "# Example 4:\n",
        "# How many cities are in the EU?\n",
        "# \n",
        "%%sql\n",
        "SELECT count()\n",
        "FROM Cities\n",
        "WHERE country IN (SELECT country FROM Countries WHERE EU = 'yes')"
      ],
      "execution_count": 12,
      "outputs": [
        {
          "output_type": "stream",
          "text": [
            " * sqlite://\n",
            "Done.\n"
          ],
          "name": "stdout"
        },
        {
          "output_type": "execute_result",
          "data": {
            "text/html": [
              "<table>\n",
              "    <thead>\n",
              "        <tr>\n",
              "            <th>count()</th>\n",
              "        </tr>\n",
              "    </thead>\n",
              "    <tbody>\n",
              "        <tr>\n",
              "            <td>150</td>\n",
              "        </tr>\n",
              "    </tbody>\n",
              "</table>"
            ],
            "text/plain": [
              "[(150,)]"
            ]
          },
          "metadata": {
            "tags": []
          },
          "execution_count": 12
        }
      ]
    },
    {
      "cell_type": "markdown",
      "metadata": {
        "id": "d1czA9cCnfki"
      },
      "source": [
        "### <font color=\"green\">1.2 Challenges</font>"
      ]
    },
    {
      "cell_type": "code",
      "metadata": {
        "id": "BpOpH-fznpo2",
        "colab": {
          "base_uri": "https://localhost:8080/",
          "height": 74
        },
        "outputId": "c95dd4da-d3a5-4782-a6d3-41202f2fdcf4"
      },
      "source": [
        "# Challenge 1\n",
        "# Find number of countries that have a city with latitude > 1000 (start with country list)\n",
        "# \n",
        "%%sql\n",
        "SELECT country\n",
        "FROM Countries\n",
        "WHERE EXISTS (SELECT * FROM Cities\n",
        "            WHERE Cities.country = Countries.country\n",
        "            AND latitude > 1000)"
      ],
      "execution_count": 16,
      "outputs": [
        {
          "output_type": "stream",
          "text": [
            " * sqlite://\n",
            "Done.\n"
          ],
          "name": "stdout"
        },
        {
          "output_type": "execute_result",
          "data": {
            "text/html": [
              "<table>\n",
              "    <thead>\n",
              "        <tr>\n",
              "            <th>country</th>\n",
              "        </tr>\n",
              "    </thead>\n",
              "    <tbody>\n",
              "    </tbody>\n",
              "</table>"
            ],
            "text/plain": [
              "[]"
            ]
          },
          "metadata": {
            "tags": []
          },
          "execution_count": 16
        }
      ]
    },
    {
      "cell_type": "code",
      "metadata": {
        "id": "jIhUfWXlnrcK",
        "colab": {
          "base_uri": "https://localhost:8080/",
          "height": 137
        },
        "outputId": "089abc5c-b19b-4c31-fe00-9332461a0a37"
      },
      "source": [
        "# Challenge 2\n",
        "# Find three western most cities returning both the cities and their longitude\n",
        "#\n",
        "%%sql\n",
        "SELECT city, longitude\n",
        "FROM Cities\n",
        "ORDER BY longitude ASC \n",
        "LIMIT 3;"
      ],
      "execution_count": 18,
      "outputs": [
        {
          "output_type": "stream",
          "text": [
            " * sqlite://\n",
            "Done.\n"
          ],
          "name": "stdout"
        },
        {
          "output_type": "execute_result",
          "data": {
            "text/html": [
              "<table>\n",
              "    <thead>\n",
              "        <tr>\n",
              "            <th>city</th>\n",
              "            <th>longitude</th>\n",
              "        </tr>\n",
              "    </thead>\n",
              "    <tbody>\n",
              "        <tr>\n",
              "            <td>Lisbon</td>\n",
              "            <td>-9.14</td>\n",
              "        </tr>\n",
              "        <tr>\n",
              "            <td>Galway</td>\n",
              "            <td>-9.05</td>\n",
              "        </tr>\n",
              "        <tr>\n",
              "            <td>Vigo</td>\n",
              "            <td>-8.73</td>\n",
              "        </tr>\n",
              "    </tbody>\n",
              "</table>"
            ],
            "text/plain": [
              "[('Lisbon', -9.14), ('Galway', -9.05), ('Vigo', -8.73)]"
            ]
          },
          "metadata": {
            "tags": []
          },
          "execution_count": 18
        }
      ]
    },
    {
      "cell_type": "code",
      "metadata": {
        "id": "o0ACgdPAnvrF",
        "colab": {
          "base_uri": "https://localhost:8080/",
          "height": 599
        },
        "outputId": "c0d4c302-49b5-4b4f-bf9f-7e99d6cdad57"
      },
      "source": [
        "# Challenge 3\n",
        "# Find cities with temperature is more than 50% higher than the average; \n",
        "# We will return the city, country, and temperature, ordered by descending temperature\n",
        "# Hint: avg(temperature) * 1.5\n",
        "# \n",
        "%%sql\n",
        "select city, country, temperature\n",
        "from Cities\n",
        "group by temperature\n",
        "having (temperature) > (select 1.5 * avg(temperature) from Cities)"
      ],
      "execution_count": 56,
      "outputs": [
        {
          "output_type": "stream",
          "text": [
            " * sqlite://\n",
            "Done.\n"
          ],
          "name": "stdout"
        },
        {
          "output_type": "execute_result",
          "data": {
            "text/html": [
              "<table>\n",
              "    <thead>\n",
              "        <tr>\n",
              "            <th>city</th>\n",
              "            <th>country</th>\n",
              "            <th>temperature</th>\n",
              "        </tr>\n",
              "    </thead>\n",
              "    <tbody>\n",
              "        <tr>\n",
              "            <td>Marseille</td>\n",
              "            <td>France</td>\n",
              "            <td>14.98</td>\n",
              "        </tr>\n",
              "        <tr>\n",
              "            <td>Murcia</td>\n",
              "            <td>Spain</td>\n",
              "            <td>15.0</td>\n",
              "        </tr>\n",
              "        <tr>\n",
              "            <td>Denizli</td>\n",
              "            <td>Turkey</td>\n",
              "            <td>15.02</td>\n",
              "        </tr>\n",
              "        <tr>\n",
              "            <td>Catania</td>\n",
              "            <td>Italy</td>\n",
              "            <td>15.04</td>\n",
              "        </tr>\n",
              "        <tr>\n",
              "            <td>Rome</td>\n",
              "            <td>Italy</td>\n",
              "            <td>15.1</td>\n",
              "        </tr>\n",
              "        <tr>\n",
              "            <td>Pescara</td>\n",
              "            <td>Italy</td>\n",
              "            <td>15.13</td>\n",
              "        </tr>\n",
              "        <tr>\n",
              "            <td>Bari</td>\n",
              "            <td>Italy</td>\n",
              "            <td>15.15</td>\n",
              "        </tr>\n",
              "        <tr>\n",
              "            <td>Elbasan</td>\n",
              "            <td>Albania</td>\n",
              "            <td>15.18</td>\n",
              "        </tr>\n",
              "        <tr>\n",
              "            <td>Lisbon</td>\n",
              "            <td>Portugal</td>\n",
              "            <td>15.52</td>\n",
              "        </tr>\n",
              "        <tr>\n",
              "            <td>Badajoz</td>\n",
              "            <td>Spain</td>\n",
              "            <td>15.61</td>\n",
              "        </tr>\n",
              "        <tr>\n",
              "            <td>Barcelona</td>\n",
              "            <td>Spain</td>\n",
              "            <td>15.78</td>\n",
              "        </tr>\n",
              "        <tr>\n",
              "            <td>Trikala</td>\n",
              "            <td>Greece</td>\n",
              "            <td>16.0</td>\n",
              "        </tr>\n",
              "        <tr>\n",
              "            <td>Valencia</td>\n",
              "            <td>Spain</td>\n",
              "            <td>16.02</td>\n",
              "        </tr>\n",
              "        <tr>\n",
              "            <td>Granada</td>\n",
              "            <td>Spain</td>\n",
              "            <td>16.33</td>\n",
              "        </tr>\n",
              "        <tr>\n",
              "            <td>Messina</td>\n",
              "            <td>Italy</td>\n",
              "            <td>16.54</td>\n",
              "        </tr>\n",
              "        <tr>\n",
              "            <td>Cosenza</td>\n",
              "            <td>Italy</td>\n",
              "            <td>16.6</td>\n",
              "        </tr>\n",
              "        <tr>\n",
              "            <td>Patras</td>\n",
              "            <td>Greece</td>\n",
              "            <td>16.9</td>\n",
              "        </tr>\n",
              "        <tr>\n",
              "            <td>Huelva</td>\n",
              "            <td>Spain</td>\n",
              "            <td>17.09</td>\n",
              "        </tr>\n",
              "        <tr>\n",
              "            <td>Marbella</td>\n",
              "            <td>Spain</td>\n",
              "            <td>17.19</td>\n",
              "        </tr>\n",
              "        <tr>\n",
              "            <td>Kalamata</td>\n",
              "            <td>Greece</td>\n",
              "            <td>17.3</td>\n",
              "        </tr>\n",
              "        <tr>\n",
              "            <td>Cartagena</td>\n",
              "            <td>Spain</td>\n",
              "            <td>17.32</td>\n",
              "        </tr>\n",
              "        <tr>\n",
              "            <td>Algeciras</td>\n",
              "            <td>Spain</td>\n",
              "            <td>17.38</td>\n",
              "        </tr>\n",
              "        <tr>\n",
              "            <td>Athens</td>\n",
              "            <td>Greece</td>\n",
              "            <td>17.41</td>\n",
              "        </tr>\n",
              "        <tr>\n",
              "            <td>Palermo</td>\n",
              "            <td>Italy</td>\n",
              "            <td>17.9</td>\n",
              "        </tr>\n",
              "        <tr>\n",
              "            <td>Adana</td>\n",
              "            <td>Turkey</td>\n",
              "            <td>18.67</td>\n",
              "        </tr>\n",
              "    </tbody>\n",
              "</table>"
            ],
            "text/plain": [
              "[('Marseille', 'France', 14.98),\n",
              " ('Murcia', 'Spain', 15.0),\n",
              " ('Denizli', 'Turkey', 15.02),\n",
              " ('Catania', 'Italy', 15.04),\n",
              " ('Rome', 'Italy', 15.1),\n",
              " ('Pescara', 'Italy', 15.13),\n",
              " ('Bari', 'Italy', 15.15),\n",
              " ('Elbasan', 'Albania', 15.18),\n",
              " ('Lisbon', 'Portugal', 15.52),\n",
              " ('Badajoz', 'Spain', 15.61),\n",
              " ('Barcelona', 'Spain', 15.78),\n",
              " ('Trikala', 'Greece', 16.0),\n",
              " ('Valencia', 'Spain', 16.02),\n",
              " ('Granada', 'Spain', 16.33),\n",
              " ('Messina', 'Italy', 16.54),\n",
              " ('Cosenza', 'Italy', 16.6),\n",
              " ('Patras', 'Greece', 16.9),\n",
              " ('Huelva', 'Spain', 17.09),\n",
              " ('Marbella', 'Spain', 17.19),\n",
              " ('Kalamata', 'Greece', 17.3),\n",
              " ('Cartagena', 'Spain', 17.32),\n",
              " ('Algeciras', 'Spain', 17.38),\n",
              " ('Athens', 'Greece', 17.41),\n",
              " ('Palermo', 'Italy', 17.9),\n",
              " ('Adana', 'Turkey', 18.67)]"
            ]
          },
          "metadata": {
            "tags": []
          },
          "execution_count": 56
        }
      ]
    },
    {
      "cell_type": "code",
      "metadata": {
        "id": "fmUqjv6F6lQ0",
        "colab": {
          "base_uri": "https://localhost:8080/",
          "height": 95
        },
        "outputId": "e0a98fd2-1124-43f0-c213-fa53014cd62d"
      },
      "source": [
        "# Challenge 4\n",
        "# How many cities are not in the EU and without a coastline?\n",
        "# Hint: \"not in\"\n",
        "# \n",
        "%%sql\n",
        "SELECT count()\n",
        "FROM Cities\n",
        "WHERE country NOT IN (SELECT country FROM Countries WHERE EU = 'Yes' AND coastline = 'yes')"
      ],
      "execution_count": 58,
      "outputs": [
        {
          "output_type": "stream",
          "text": [
            " * sqlite://\n",
            "Done.\n"
          ],
          "name": "stdout"
        },
        {
          "output_type": "execute_result",
          "data": {
            "text/html": [
              "<table>\n",
              "    <thead>\n",
              "        <tr>\n",
              "            <th>count()</th>\n",
              "        </tr>\n",
              "    </thead>\n",
              "    <tbody>\n",
              "        <tr>\n",
              "            <td>213</td>\n",
              "        </tr>\n",
              "    </tbody>\n",
              "</table>"
            ],
            "text/plain": [
              "[(213,)]"
            ]
          },
          "metadata": {
            "tags": []
          },
          "execution_count": 58
        }
      ]
    },
    {
      "cell_type": "code",
      "metadata": {
        "id": "x14dNNSB8X9_",
        "colab": {
          "base_uri": "https://localhost:8080/",
          "height": 95
        },
        "outputId": "8d2db306-b85c-4150-f045-88933a2304eb"
      },
      "source": [
        "# Challenge 5\n",
        "# Find the number of countries with no coastline and a city with longitude < 10\n",
        "# \n",
        "%%sql\n",
        "select count()\n",
        "from Countries\n",
        "where coastline = 'no'\n",
        "and exists (select * from Cities where country = Countries.country\n",
        "            and longitude < 10)"
      ],
      "execution_count": 59,
      "outputs": [
        {
          "output_type": "stream",
          "text": [
            " * sqlite://\n",
            "Done.\n"
          ],
          "name": "stdout"
        },
        {
          "output_type": "execute_result",
          "data": {
            "text/html": [
              "<table>\n",
              "    <thead>\n",
              "        <tr>\n",
              "            <th>count()</th>\n",
              "        </tr>\n",
              "    </thead>\n",
              "    <tbody>\n",
              "        <tr>\n",
              "            <td>2</td>\n",
              "        </tr>\n",
              "    </tbody>\n",
              "</table>"
            ],
            "text/plain": [
              "[(2,)]"
            ]
          },
          "metadata": {
            "tags": []
          },
          "execution_count": 59
        }
      ]
    },
    {
      "cell_type": "code",
      "metadata": {
        "id": "Z_AeMRdD82F8",
        "colab": {
          "base_uri": "https://localhost:8080/",
          "height": 179
        },
        "outputId": "99014283-de4a-4f91-9d05-03be8988d530"
      },
      "source": [
        "# Challenge 6\n",
        "# Find countries in Countries table with no city in Cities table\n",
        "\n",
        "\n",
        "%%sql\n",
        "select country\n",
        "from Countries\n",
        "where not exists (select * from Cities\n",
        "                  where Cities.country = Countries.country)"
      ],
      "execution_count": 62,
      "outputs": [
        {
          "output_type": "stream",
          "text": [
            " * sqlite://\n",
            "Done.\n"
          ],
          "name": "stdout"
        },
        {
          "output_type": "execute_result",
          "data": {
            "text/html": [
              "<table>\n",
              "    <thead>\n",
              "        <tr>\n",
              "            <th>country</th>\n",
              "        </tr>\n",
              "    </thead>\n",
              "    <tbody>\n",
              "        <tr>\n",
              "            <td>Cyprus</td>\n",
              "        </tr>\n",
              "        <tr>\n",
              "            <td>Iceland</td>\n",
              "        </tr>\n",
              "        <tr>\n",
              "            <td>Kosovo</td>\n",
              "        </tr>\n",
              "        <tr>\n",
              "            <td>Liechtenstein</td>\n",
              "        </tr>\n",
              "        <tr>\n",
              "            <td>Luxembourg</td>\n",
              "        </tr>\n",
              "    </tbody>\n",
              "</table>"
            ],
            "text/plain": [
              "[('Cyprus',), ('Iceland',), ('Kosovo',), ('Liechtenstein',), ('Luxembourg',)]"
            ]
          },
          "metadata": {
            "tags": []
          },
          "execution_count": 62
        }
      ]
    },
    {
      "cell_type": "code",
      "metadata": {
        "id": "4dW5nRzi9atc",
        "colab": {
          "base_uri": "https://localhost:8080/",
          "height": 200
        },
        "outputId": "9d84b259-bb96-4152-a47b-e74f4393eb03"
      },
      "source": [
        "# Challenge 7\n",
        "# Find all cities in a country whose population is < 2, returning the city and country.\n",
        "# \n",
        "%%sql\n",
        "select city\n",
        "from Cities\n",
        "where exists (select * from Countries\n",
        "                  where Cities.country = Countries.country and population < 2)"
      ],
      "execution_count": 64,
      "outputs": [
        {
          "output_type": "stream",
          "text": [
            " * sqlite://\n",
            "Done.\n"
          ],
          "name": "stdout"
        },
        {
          "output_type": "execute_result",
          "data": {
            "text/html": [
              "<table>\n",
              "    <thead>\n",
              "        <tr>\n",
              "            <th>city</th>\n",
              "        </tr>\n",
              "    </thead>\n",
              "    <tbody>\n",
              "        <tr>\n",
              "            <td>Andorra</td>\n",
              "        </tr>\n",
              "        <tr>\n",
              "            <td>Daugavpils</td>\n",
              "        </tr>\n",
              "        <tr>\n",
              "            <td>Podgorica</td>\n",
              "        </tr>\n",
              "        <tr>\n",
              "            <td>Riga</td>\n",
              "        </tr>\n",
              "        <tr>\n",
              "            <td>Tallinn</td>\n",
              "        </tr>\n",
              "        <tr>\n",
              "            <td>Tartu</td>\n",
              "        </tr>\n",
              "    </tbody>\n",
              "</table>"
            ],
            "text/plain": [
              "[('Andorra',),\n",
              " ('Daugavpils',),\n",
              " ('Podgorica',),\n",
              " ('Riga',),\n",
              " ('Tallinn',),\n",
              " ('Tartu',)]"
            ]
          },
          "metadata": {
            "tags": []
          },
          "execution_count": 64
        }
      ]
    },
    {
      "cell_type": "code",
      "metadata": {
        "id": "rZCO_07d9n9G",
        "colab": {
          "base_uri": "https://localhost:8080/",
          "height": 305
        },
        "outputId": "5e3bf3a6-282e-4aa3-96ee-a6769efddfce"
      },
      "source": [
        "# Challenge 8\n",
        "# Find all countries with no city having a temperature > 6\n",
        "# \n",
        "%%sql\n",
        "select country\n",
        "from Countries\n",
        "where exists (select * from Cities\n",
        "                  where Cities.country = Countries.country AND temperature<=6)"
      ],
      "execution_count": 65,
      "outputs": [
        {
          "output_type": "stream",
          "text": [
            " * sqlite://\n",
            "Done.\n"
          ],
          "name": "stdout"
        },
        {
          "output_type": "execute_result",
          "data": {
            "text/html": [
              "<table>\n",
              "    <thead>\n",
              "        <tr>\n",
              "            <th>country</th>\n",
              "        </tr>\n",
              "    </thead>\n",
              "    <tbody>\n",
              "        <tr>\n",
              "            <td>Austria</td>\n",
              "        </tr>\n",
              "        <tr>\n",
              "            <td>Belarus</td>\n",
              "        </tr>\n",
              "        <tr>\n",
              "            <td>Estonia</td>\n",
              "        </tr>\n",
              "        <tr>\n",
              "            <td>Finland</td>\n",
              "        </tr>\n",
              "        <tr>\n",
              "            <td>Germany</td>\n",
              "        </tr>\n",
              "        <tr>\n",
              "            <td>Latvia</td>\n",
              "        </tr>\n",
              "        <tr>\n",
              "            <td>Lithuania</td>\n",
              "        </tr>\n",
              "        <tr>\n",
              "            <td>Norway</td>\n",
              "        </tr>\n",
              "        <tr>\n",
              "            <td>Sweden</td>\n",
              "        </tr>\n",
              "        <tr>\n",
              "            <td>Turkey</td>\n",
              "        </tr>\n",
              "        <tr>\n",
              "            <td>Ukraine</td>\n",
              "        </tr>\n",
              "    </tbody>\n",
              "</table>"
            ],
            "text/plain": [
              "[('Austria',),\n",
              " ('Belarus',),\n",
              " ('Estonia',),\n",
              " ('Finland',),\n",
              " ('Germany',),\n",
              " ('Latvia',),\n",
              " ('Lithuania',),\n",
              " ('Norway',),\n",
              " ('Sweden',),\n",
              " ('Turkey',),\n",
              " ('Ukraine',)]"
            ]
          },
          "metadata": {
            "tags": []
          },
          "execution_count": 65
        }
      ]
    }
  ]
}