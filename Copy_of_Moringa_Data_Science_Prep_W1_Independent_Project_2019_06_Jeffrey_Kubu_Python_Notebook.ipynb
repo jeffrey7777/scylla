{
  "nbformat": 4,
  "nbformat_minor": 0,
  "metadata": {
    "colab": {
      "name": "Copy of Moringa_Data_Science_Prep_W1_Independent_Project_2019_06_Jeffrey_Kubu_Python_Notebook.ipynb",
      "provenance": [],
      "authorship_tag": "ABX9TyMq8u+VYm3o1kCZPCBFo7Ef",
      "include_colab_link": true
    },
    "kernelspec": {
      "name": "python3",
      "display_name": "Python 3"
    },
    "language_info": {
      "name": "python"
    }
  },
  "cells": [
    {
      "cell_type": "markdown",
      "metadata": {
        "id": "view-in-github",
        "colab_type": "text"
      },
      "source": [
        "<a href=\"https://colab.research.google.com/github/jeffrey7777/scylla/blob/main/Copy_of_Moringa_Data_Science_Prep_W1_Independent_Project_2019_06_Jeffrey_Kubu_Python_Notebook.ipynb\" target=\"_parent\"><img src=\"https://colab.research.google.com/assets/colab-badge.svg\" alt=\"Open In Colab\"/></a>"
      ]
    },
    {
      "cell_type": "code",
      "metadata": {
        "colab": {
          "base_uri": "https://localhost:8080/"
        },
        "id": "asOIuVQT70F1",
        "outputId": "4d976792-5b49-4e66-e653-be4d4f5e4faa"
      },
      "source": [
        "pounds = int(input(\"Enter weight in pounds\"))\n",
        "kgs = pounds/2.205\n",
        "print(\"Your weight in kgs is\", kgs)\n"
      ],
      "execution_count": null,
      "outputs": [
        {
          "output_type": "stream",
          "text": [
            "Enter weight in pounds70\n",
            "Your weight in kgs is 31.746031746031743\n"
          ],
          "name": "stdout"
        }
      ]
    },
    {
      "cell_type": "code",
      "metadata": {
        "colab": {
          "base_uri": "https://localhost:8080/"
        },
        "id": "b21uwg9s_TW3",
        "outputId": "b1bae8bc-3bcb-4501-faba-767320dc30a8"
      },
      "source": [
        "sum = pounds+kgs\n",
        "print(sum)"
      ],
      "execution_count": null,
      "outputs": [
        {
          "output_type": "stream",
          "text": [
            "101.74603174603175\n"
          ],
          "name": "stdout"
        }
      ]
    },
    {
      "cell_type": "code",
      "metadata": {
        "colab": {
          "base_uri": "https://localhost:8080/"
        },
        "id": "QRsl-JAZ_fwk",
        "outputId": "84bfd0dc-fbec-4d62-d480-f94fba4a319f"
      },
      "source": [
        "avg = sum/2\n",
        "print(avg)"
      ],
      "execution_count": null,
      "outputs": [
        {
          "output_type": "stream",
          "text": [
            "50.87301587301587\n"
          ],
          "name": "stdout"
        }
      ]
    },
    {
      "cell_type": "code",
      "metadata": {
        "colab": {
          "base_uri": "https://localhost:8080/"
        },
        "id": "1cAU5gOT_qEV",
        "outputId": "a107131d-3765-42f3-c18a-b71f26498552"
      },
      "source": [
        "dif = kgs-pounds\n",
        "print(dif)"
      ],
      "execution_count": null,
      "outputs": [
        {
          "output_type": "stream",
          "text": [
            "-38.25396825396825\n"
          ],
          "name": "stdout"
        }
      ]
    },
    {
      "cell_type": "code",
      "metadata": {
        "colab": {
          "base_uri": "https://localhost:8080/"
        },
        "id": "-2TxW11L_xY4",
        "outputId": "cbf48969-f520-4e89-c7cb-82e3108ff99c"
      },
      "source": [
        "quotent=kgs%pounds\n",
        "print(quotent)"
      ],
      "execution_count": null,
      "outputs": [
        {
          "output_type": "stream",
          "text": [
            "31.746031746031743\n"
          ],
          "name": "stdout"
        }
      ]
    },
    {
      "cell_type": "code",
      "metadata": {
        "colab": {
          "base_uri": "https://localhost:8080/"
        },
        "id": "Z304bTFNA5l2",
        "outputId": "faeb2992-2c44-4245-b78f-cc0a9a186138"
      },
      "source": [
        "x = kgs%2\n",
        "y = pounds%2\n",
        "print(x)\n",
        "print(y) "
      ],
      "execution_count": null,
      "outputs": [
        {
          "output_type": "stream",
          "text": [
            "1.7460317460317434\n",
            "0\n"
          ],
          "name": "stdout"
        }
      ]
    }
  ]
}